{
  "nbformat": 4,
  "nbformat_minor": 0,
  "metadata": {
    "colab": {
      "provenance": [],
      "collapsed_sections": []
    },
    "kernelspec": {
      "name": "python3",
      "display_name": "Python 3"
    },
    "language_info": {
      "name": "python"
    }
  },
  "cells": [
    {
      "cell_type": "markdown",
      "source": [
        "**Importing necessary libraries:**"
      ],
      "metadata": {
        "id": "9kgody9AiJzj"
      }
    },
    {
      "cell_type": "code",
      "source": [
        "import numpy as np\n",
        "import matplotlib.pyplot as plt\n",
        "import pandas as pd\n",
        "import os\n",
        "import cv2\n",
        "import scipy.spatial\n",
        "import random\n",
        "import math\n",
        "from collections import Counter"
      ],
      "metadata": {
        "id": "MzDC_KWh5e-H"
      },
      "execution_count": 89,
      "outputs": []
    },
    {
      "cell_type": "markdown",
      "source": [
        "**Downloading images from Google:**"
      ],
      "metadata": {
        "id": "wrArH3-kB_WG"
      }
    },
    {
      "cell_type": "code",
      "source": [
        "! pip install simple_image_download                                           # installing simple_image_download library\n",
        "from simple_image_download import simple_image_download as simp               \n",
        "response = simp.simple_image_download\n",
        "\n",
        "response().download(\"soccer goal with net\", 600)                              # downloading 600 images for each class\n",
        "response().download(\"basketball hoop with net\", 600)\n",
        "\n",
        "os.rename(\"/content/drive/MyDrive/Stat.Learning/HW1/Part 1/photos/soccer goal with net\", \"/content/drive/MyDrive/Stat.Learning/HW1/Part 1/photos/goal\")\n",
        "os.rename(\"/content/drive/MyDrive/Stat.Learning/HW1/Part 1/photos/basketball hoop with net\", \"/content/drive/MyDrive/Stat.Learning/HW1/Part 1/photos/hoop\")"
      ],
      "metadata": {
        "id": "WfCp6RzyCCqW"
      },
      "execution_count": null,
      "outputs": []
    },
    {
      "cell_type": "markdown",
      "source": [
        "**Defining a function to create the training data:**"
      ],
      "metadata": {
        "id": "gopEL3ijj-nG"
      }
    },
    {
      "cell_type": "code",
      "source": [
        "data_dir = \"/content/drive/MyDrive/Stat.Learning/HW1/Part 1/photos\"             # data directory\n",
        "categories = [\"goal\",\"hoop\"]                                                    # list of classes\n",
        "\n",
        "train_data = []                                                                 # creating training data list\n",
        "img_size = 200                                                                  # common size of all pictures\n",
        "\n",
        "def create_train_data():\n",
        "  for ctg in categories:\n",
        "    path = os.path.join(data_dir, ctg)                                          # creating paths to directory of goals or hoops\n",
        "    cls_num = categories.index(ctg)                                             # labeling pictures by using indexes (0 = goal, 1 = hoop)\n",
        "    for img in os.listdir(path):\n",
        "      try:\n",
        "        img_array = cv2.imread(os.path.join(path, img), cv2.IMREAD_GRAYSCALE)   # converting all images into grayscale and creating corresponding arrays   \n",
        "        new_img_array = cv2.resize(img_array,(img_size,img_size))               # resizing all the images, so that all of them will be the same size\n",
        "        train_data.append([new_img_array, cls_num])                             # appending arrays and classification numbers to the training data list  \n",
        "      except Exception as e:                                                    # using try...except statement to avoid errors\n",
        "        pass\n",
        "\n",
        "create_train_data()\n",
        "\n",
        "random.shuffle(train_data)                                                      # shuffling the data in order to learn the labels in a mixed way"
      ],
      "metadata": {
        "id": "SSsdr1EoVbHF"
      },
      "execution_count": 90,
      "outputs": []
    },
    {
      "cell_type": "markdown",
      "source": [
        "**Creating lists of features and labels:**"
      ],
      "metadata": {
        "id": "OX7lhgL3KZh6"
      }
    },
    {
      "cell_type": "code",
      "source": [
        "X = []                                                                          \n",
        "y = []\n",
        "\n",
        "for features, label in train_data:\n",
        "  X.append(features)                                                            # seperating features and labels from each other\n",
        "  y.append(label)\n",
        "\n",
        "X = np.array(X).reshape(-1, img_size * img_size)                                # Converting the features list X into a numpy array"
      ],
      "metadata": {
        "id": "c1DiJPuR6BtP"
      },
      "execution_count": 91,
      "outputs": []
    },
    {
      "cell_type": "markdown",
      "source": [
        "**Splitting the data:**"
      ],
      "metadata": {
        "id": "BUgFv2Bg7Ckh"
      }
    },
    {
      "cell_type": "code",
      "source": [
        "n_train = math.floor(0.9 * X.shape[0])                     # First 90% of data is being used in training phase.\n",
        "n_test = math.ceil(0.1 * X.shape[0])                       # Last 10% of data is being used during testing.\n",
        "X_train = X[:n_train]\n",
        "y_train = y[:n_train]\n",
        "X_test = X[n_train:]\n",
        "y_test = y[n_train:]"
      ],
      "metadata": {
        "id": "YvLR0k2R7EZw"
      },
      "execution_count": 92,
      "outputs": []
    },
    {
      "cell_type": "markdown",
      "source": [
        "**Defining k-NN class :**"
      ],
      "metadata": {
        "id": "wjplL1rS9OP2"
      }
    },
    {
      "cell_type": "code",
      "source": [
        "class KNN:\n",
        "  def __init__(self, k):\n",
        "    self.k = k                                                             # defining k\n",
        "  \n",
        "  def fit(self, X, y):                                                     # defining the function learning from training data        \n",
        "    self.X_train = X\n",
        "    self.y_train = y\n",
        "  \n",
        "  def distance(self, X1, X2):                                              # defining the function calculating the Euclidean distance between two points\n",
        "    distance = scipy.spatial.distance.euclidean(X1, X2)        \n",
        "  \n",
        "  def predict(self, X_test):                                               # defining the function predicting the labels of test images\n",
        "    output = []\n",
        "    for i in range(len(X_test)):\n",
        "      d = []\n",
        "      votes = []\n",
        "      for j in range(len(X_train)):\n",
        "        dist = scipy.spatial.distance.euclidean(X_train[j], X_test[i])     # calculating the Euclidean distance between training and test inputs\n",
        "        d.append([dist, j])                                                # appending these distances to the list d\n",
        "      d.sort()                                                             # sorting the elements in d\n",
        "      d = d[0:self.k]\n",
        "      for d, j in d:\n",
        "          votes.append(y_train[j])\n",
        "      ans = Counter(votes).most_common(1)[0][0]\n",
        "      output.append(ans)\n",
        "    return output\n",
        "\n",
        "  def score(self, prediction, y_test):\n",
        "    count = 0\n",
        "    for i in range(len(prediction)):\n",
        "        if prediction[i] == y_test[i]:\n",
        "            count +=1\n",
        "    return count/len(prediction)*100"
      ],
      "metadata": {
        "id": "fgjpjJEE9Muw"
      },
      "execution_count": 93,
      "outputs": []
    },
    {
      "cell_type": "markdown",
      "source": [
        "**Making predictions and finding accuracies for different k's:**"
      ],
      "metadata": {
        "id": "8npXIyd1_OxJ"
      }
    },
    {
      "cell_type": "code",
      "source": [
        "accur = []\n",
        "ks = []\n",
        "\n",
        "for i in range(1,31,2):\n",
        "  ata = KNN(i)\n",
        "  ata.fit(X_train, y_train)\n",
        "  prediction = ata.predict(X_test)\n",
        "  acc = ata.score(prediction, y_test)\n",
        "  ks.append(i)\n",
        "  accur.append(acc)\n",
        "\n",
        "plt.plot(ks, accur)\n",
        "plt.xlabel(\"k\")\n",
        "plt.ylabel(\"Accuracy\")\n",
        "plt.title(\"Accuracy with respect to k\")"
      ],
      "metadata": {
        "colab": {
          "base_uri": "https://localhost:8080/",
          "height": 312
        },
        "id": "FXbS0cBuoZ6V",
        "outputId": "c520d927-82c2-402f-852a-b49182d410c1"
      },
      "execution_count": 94,
      "outputs": [
        {
          "output_type": "execute_result",
          "data": {
            "text/plain": [
              "Text(0.5, 1.0, 'Accuracy with respect to k')"
            ]
          },
          "metadata": {},
          "execution_count": 94
        },
        {
          "output_type": "display_data",
          "data": {
            "text/plain": [
              "<Figure size 432x288 with 1 Axes>"
            ],
            "image/png": "[encoded data removed]"
          },
          "metadata": {
            "needs_background": "light"
          }
        }
      ]
    }
  ]
}